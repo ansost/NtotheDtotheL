{
 "cells": [
  {
   "cell_type": "code",
   "execution_count": 1,
   "metadata": {},
   "outputs": [],
   "source": [
    "import json\n",
    "from tqdm import tqdm\n",
    "import pandas as pd\n",
    "\n",
    "from variables import *"
   ]
  },
  {
   "cell_type": "markdown",
   "metadata": {},
   "source": [
    "#### Read in the event file, weights and parts of the regression dataset"
   ]
  },
  {
   "cell_type": "code",
   "execution_count": 3,
   "metadata": {
    "collapsed": true
   },
   "outputs": [
    {
     "name": "stdout",
     "output_type": "stream",
     "text": [
      "<class 'pandas.core.frame.DataFrame'>\n",
      "Index: 4091 entries, c.okay to c.content\n",
      "Columns: 2327 entries, mm-hmm to philip\n",
      "dtypes: float64(2327)\n",
      "memory usage: 72.9 MB\n"
     ]
    }
   ],
   "source": [
    "# Event file.\n",
    "event_file = pd.read_csv('../data/batches/file.tsv', \n",
    "                         sep = '\\t', \n",
    "                         low_memory = True,\n",
    "                         engine = 'c')\n",
    "\n",
    "# Weights. \n",
    "df = xr.open_dataarray('../output/weights/file.nc')\n",
    "weight_matrix = df.to_pandas()\n",
    "weight_matrix = weight_matrix.transpose()\n",
    "weight_matrix.info(verbose=False, memory_usage=\"deep\")\n",
    "\n",
    "# Only loading the speakerID and word column from the regression dataframe.  \n",
    "speaker_word = pd.read_csv('../data/regression_data.csv',\n",
    "                           usecols=['wordID'],\n",
    "                           dtype={\"wordID\": \"category\"},\n",
    "                           low_memory = True)"
   ]
  },
  {
   "cell_type": "markdown",
   "metadata": {},
   "source": [
    "#### Add prior to the dataframe"
   ]
  },
  {
   "cell_type": "code",
   "execution_count": 17,
   "metadata": {
    "collapsed": true
   },
   "outputs": [
    {
     "name": "stderr",
     "output_type": "stream",
     "text": [
      "6it [00:00, 46.27it/s]\n"
     ]
    },
    {
     "ename": "TypeError",
     "evalue": "string indices must be integers",
     "output_type": "error",
     "traceback": [
      "\u001b[0;31m---------------------------------------------------------------------------\u001b[0m",
      "\u001b[0;31mTypeError\u001b[0m                                 Traceback (most recent call last)",
      "\u001b[0;32m<ipython-input-17-6ad033865d09>\u001b[0m in \u001b[0;36m<module>\u001b[0;34m\u001b[0m\n\u001b[1;32m     11\u001b[0m \u001b[0;34m\u001b[0m\u001b[0m\n\u001b[1;32m     12\u001b[0m         prior_dict[word] = {'prior_all': prior_all, \n\u001b[0;32m---> 13\u001b[0;31m                             \u001b[0;34m'prior_segments'\u001b[0m\u001b[0;34m:\u001b[0m \u001b[0mpriors\u001b[0m\u001b[0;34m[\u001b[0m\u001b[0;34m'Segment'\u001b[0m\u001b[0;34m]\u001b[0m\u001b[0;34m,\u001b[0m\u001b[0;34m\u001b[0m\u001b[0m\n\u001b[0m\u001b[1;32m     14\u001b[0m                             \u001b[0;34m'prior_syllables'\u001b[0m\u001b[0;34m:\u001b[0m \u001b[0mpriors\u001b[0m\u001b[0;34m[\u001b[0m\u001b[0;34m'Syllable'\u001b[0m\u001b[0;34m]\u001b[0m\u001b[0;34m,\u001b[0m\u001b[0;34m\u001b[0m\u001b[0m\n\u001b[1;32m     15\u001b[0m                             'prior_context' : priors['Context']} \n",
      "\u001b[0;31mTypeError\u001b[0m: string indices must be integers"
     ]
    }
   ],
   "source": [
    "words = speaker_word['wordID'].tolist()\n",
    "prior_dict = {}\n",
    "\n",
    "# Make a prior dictionary.\n",
    "for index, word in tqdm(enumerate(words)):\n",
    "    if word not in prior_dict.keys(): \n",
    "\n",
    "        prior_all = get_prior(weight_matrix = weight_matrix, word_outcome = word, domain_specific = False)\n",
    "        priors = get_prior(weight_matrix = weight_matrix, word_outcome = word, domain_specific = True)\n",
    "        \n",
    "        prior_dict[word] = {'prior_all': prior_all, \n",
    "                            'prior_segments': priors['Segment'], \n",
    "                            'prior_syllables': priors['Syllable'], \n",
    "                            'prior_context' : priors['Context']} \n",
    "# Save to json. \n",
    "out_file = open(\"../data/prior_dictionary.json\", \"w\")\n",
    "json.dump(prior_dict, out_file, indent = 6)\n",
    "out_file.close()\n",
    "\n",
    "# Make new dataframe with the priors \n",
    "df = pd.DataFrame(columns=['prior_all', 'prior_segments', 'prior_syllables', 'prior_context'])\n",
    "for word in tqdm(enumerate(words)):\n",
    "    df = df.loc[index]({'prior_all' : prior_dict[word]['prior_all'], \n",
    "                        'prior_segments': prior_dict[word]['prior_segments'], \n",
    "                        'prior_syllables' : prior_dict[word]['prior_syllables'], \n",
    "                        'prior_context' : prior_dict[word]['prior_context']})\n",
    "\n",
    "# Loading whole regression dataset.\n",
    "regression_data = pd.read_csv('../data/regression_data.csv', \n",
    "                              dtype={\"speakerID\": \"category\",\"speakerAge\": \"category\", \"speakerGender\": \"category\",\n",
    "                                     \"interviewerGender\": \"category\", \"wordID\": \"category\", \"wordDur\": \"float\",\n",
    "                                     \"wordPOS\": \"category\", \"n_segments\": \"category\", \"n_syllables\": \"category\"}, \n",
    "                              engine = 'c',\n",
    "                              low_memory = True)\n",
    "\n",
    "result = pd.concat(objects = [regression_data, df], axis = 1)\n",
    "result.to_csv('../data/regression_data_prior.csv', index = False)"
   ]
  }
 ],
 "metadata": {
  "kernelspec": {
   "display_name": "Python 3 (ipykernel)",
   "language": "python",
   "name": "python3"
  },
  "language_info": {
   "codemirror_mode": {
    "name": "ipython",
    "version": 3
   },
   "file_extension": ".py",
   "mimetype": "text/x-python",
   "name": "python",
   "nbconvert_exporter": "python",
   "pygments_lexer": "ipython3",
   "version": "3.8.10"
  }
 },
 "nbformat": 4,
 "nbformat_minor": 2
}
