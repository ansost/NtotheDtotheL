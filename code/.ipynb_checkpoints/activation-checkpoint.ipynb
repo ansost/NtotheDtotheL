{
 "cells": [
  {
   "cell_type": "code",
   "execution_count": 1,
   "id": "4dca1cb0",
   "metadata": {},
   "outputs": [],
   "source": [
    "import os\n",
    "import pandas as pd\n",
    "from tqdm.notebook import tqdm\n",
    "\n",
    "from variables import *"
   ]
  },
  {
   "cell_type": "markdown",
   "id": "874ae80e",
   "metadata": {},
   "source": [
    "### Load files"
   ]
  },
  {
   "cell_type": "code",
   "execution_count": 2,
   "id": "019761bd",
   "metadata": {},
   "outputs": [
    {
     "name": "stdout",
     "output_type": "stream",
     "text": [
      "<class 'pandas.core.frame.DataFrame'>\n",
      "Index: 1293 entries, c.when's to y.gihn\n",
      "Columns: 610 entries, please to begin\n",
      "dtypes: float64(610)\n",
      "memory usage: 6.1 MB\n"
     ]
    }
   ],
   "source": [
    "# Event file(s)\n",
    "event_file = pd.read_csv('../data/batchfiles/batch1.gz', \n",
    "                         sep = '\\t', \n",
    "                         low_memory = True,\n",
    "                         engine = 'c')\n",
    "\n",
    "# The wordID column from the regression dataframe.  \n",
    "speaker_word = pd.read_csv('../data/regression_data.csv',\n",
    "                           usecols=['wordID'],\n",
    "                           dtype={\"wordID\": \"category\"},\n",
    "                           low_memory = True, \n",
    "                           engine = 'c')\n",
    "\n",
    "# Weights. \n",
    "df = xr.open_dataarray('../output/weights/weights_buckeye.nc')\n",
    "weight_matrix = df.to_pandas()\n",
    "weight_matrix = weight_matrix.transpose()\n",
    "weight_matrix.info(verbose=False, memory_usage=\"deep\")"
   ]
  },
  {
   "cell_type": "markdown",
   "id": "a0b6f472",
   "metadata": {},
   "source": [
    "### Get activation"
   ]
  },
  {
   "cell_type": "code",
   "execution_count": null,
   "id": "2784ac0c",
   "metadata": {},
   "outputs": [],
   "source": [
    "words = speaker_word['wordID'].tolist()\n",
    "\n",
    "df = pd.DataFrame({'activation_all': [], 'activation_segments': [], 'activation_syllables' : [], \n",
    "                   'activation_context': []})\n",
    "\n",
    "for index, word in enumerate(speaker_word): \n",
    "    \n",
    "    if index == 0:\n",
    "            context = 'c.' + words[index+1]\n",
    "        elif index == len(words)-1:\n",
    "            context = ['c.' + words[index-1]]\n",
    "        else:\n",
    "            previous_word = 'c.' + words[index-1]\n",
    "            following_word = 'c.' + words[index+1]\n",
    "            context = [previous_word, following_word] \n",
    "    \n",
    "    act = activation(word_outcome = 'the', context = [context], \n",
    "           event_files = [event_file], weight_matrix = weight_matrix, \n",
    "           domain_specific = False)\n",
    "    act_domain = activation(word_outcome = 'the', context = [context], \n",
    "           event_files = [event_file], weight_matrix = weight_matrix, \n",
    "           domain_specific = True)\n",
    "    \n",
    "    df.at[index, 'activation_all'] = act\n",
    "    df.at[index, 'activation_segments'] = act_domain['Segment']\n",
    "    df.at[index, 'activation_syllables'] = act_domain['Syllable']\n",
    "    df.at[index, 'activation_context'] = act_domain['Context']\n",
    "\n",
    "ende = pd.concat(objects = [regression_data, df], axis = 1)\n",
    "ende.to_csv('../data/regression_data_activation.csv', index = False)"
   ]
  }
 ],
 "metadata": {
  "kernelspec": {
   "display_name": "Python 3 (ipykernel)",
   "language": "python",
   "name": "python3"
  },
  "language_info": {
   "codemirror_mode": {
    "name": "ipython",
    "version": 3
   },
   "file_extension": ".py",
   "mimetype": "text/x-python",
   "name": "python",
   "nbconvert_exporter": "python",
   "pygments_lexer": "ipython3",
   "version": "3.8.10"
  }
 },
 "nbformat": 4,
 "nbformat_minor": 5
}
