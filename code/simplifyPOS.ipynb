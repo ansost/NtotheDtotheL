{
 "cells": [
  {
   "cell_type": "code",
   "execution_count": null,
   "id": "ba6ca82e",
   "metadata": {},
   "outputs": [],
   "source": [
    "import os \n",
    "import pandas as pd"
   ]
  },
  {
   "cell_type": "code",
   "execution_count": null,
   "id": "179ef67a",
   "metadata": {},
   "outputs": [],
   "source": [
    "df = pd.read_csv('../data/regression_data.csv', \n",
    "                              dtype={\"speakerID\": \"category\",\"speakerAge\": \"category\", \"speakerGender\": \"category\",\n",
    "                                     \"interviewerGender\": \"category\", \"wordID\": \"category\", \"wordDur\": \"float\",\n",
    "                                     \"n_segments\": \"category\", \"n_syllables\": \"category\"}, \n",
    "                              engine = 'c',\n",
    "                              low_memory = True)\n",
    "df.info(verbose=False, memory_usage=\"deep\")"
   ]
  },
  {
   "cell_type": "code",
   "execution_count": null,
   "id": "ce6d91b8",
   "metadata": {},
   "outputs": [],
   "source": [
    "new_tags = {'CC': 'CC', 'PP': 'PP', 'CD': 'CD', 'RB':'RB', 'DT': 'DT','EX': 'EX', 'RBS': 'RB','FW': 'FW',\n",
    "            'RP': 'RP', 'IN': 'IN', 'SYM': 'SYM', 'JJ': 'JJ', 'TO':'to', 'JJR': 'JJ', 'UH':'UH', 'JJS': 'JJ', \n",
    "            'VB': 'V', 'LS': 'LS', 'VBD': 'V', 'MD': 'MD', 'VBG': 'V', 'NN': 'NN', 'VBN': 'V', 'NNS': 'NN', \n",
    "            'VBP': 'V', 'NNP': 'NN', 'VBZ': 'V', 'NNPS': 'NN', 'WDT': 'WH', 'PDT': 'DT', 'WP': 'WP', 'POS': 'POS', \n",
    "            'WP$': 'WP', 'PRP': 'PRP', 'WRB': 'RB', 'PP$': 'PP', 'PRP_VBP': 'PRP', 'V': 'V', 'to': 'TO', 'PRP$': 'PRP', \n",
    "            'WH': 'WH','RBR': 'RB'}\n",
    "\n",
    "old_tags = df['wordPOS'].tolist()\n",
    "missing = []\n",
    "\n",
    "for index, tag in enumerate(old_tags):\n",
    "    \n",
    "    # Take care of Hybrid tags\n",
    "    tag = tag.split('_')\n",
    "    tag = tag[0]\n",
    "        \n",
    "    # Replace with new tag\n",
    "    if tag in new_tags.keys(): \n",
    "        df.at[index, 'wordPOS'] = new_tags[tag]\n",
    "    else:    \n",
    "        missing.append((tag, index))\n",
    "\n",
    "        print(missing)"
   ]
  },
  {
   "cell_type": "code",
   "execution_count": null,
   "id": "fd8ff670",
   "metadata": {},
   "outputs": [],
   "source": [
    "old_tags = df['wordPOS'].tolist()\n",
    "len(set(old_tags))"
   ]
  },
  {
   "cell_type": "code",
   "execution_count": null,
   "id": "8f570d95",
   "metadata": {},
   "outputs": [],
   "source": [
    "df.drop(labels = ['Unnamed: 0'], inplace = True, axis = 1)\n",
    "df"
   ]
  },
  {
   "cell_type": "code",
   "execution_count": null,
   "id": "f8b28957",
   "metadata": {},
   "outputs": [],
   "source": [
    "df.to_csv('../data/regression_data.csv', index = False)"
   ]
  }
 ],
 "metadata": {
  "kernelspec": {
   "display_name": "Python 3 (ipykernel)",
   "language": "python",
   "name": "python3"
  },
  "language_info": {
   "codemirror_mode": {
    "name": "ipython",
    "version": 3
   },
   "file_extension": ".py",
   "mimetype": "text/x-python",
   "name": "python",
   "nbconvert_exporter": "python",
   "pygments_lexer": "ipython3",
   "version": "3.8.10"
  }
 },
 "nbformat": 4,
 "nbformat_minor": 5
}
