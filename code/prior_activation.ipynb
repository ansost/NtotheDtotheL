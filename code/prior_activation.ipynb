{
 "cells": [
  {
   "cell_type": "code",
   "execution_count": null,
   "metadata": {},
   "outputs": [],
   "source": [
    "import json\n",
    "import pandas as pd\n",
    "from tqdm.notebook import tqdm\n",
    "\n",
    "from variables import *"
   ]
  },
  {
   "cell_type": "markdown",
   "metadata": {},
   "source": [
    "#### Read in the event file, weights and parts of the regression dataset"
   ]
  },
  {
   "cell_type": "code",
   "execution_count": null,
   "metadata": {},
   "outputs": [],
   "source": [
    "# Event file.\n",
    "event_file = pd.read_csv('../data/batchfiles/batch1.gz', \n",
    "                         sep = '\\t', \n",
    "                         low_memory = True,\n",
    "                         engine = 'c')\n",
    "\n",
    "# The word column from the regression dataframe.  \n",
    "speaker_word = pd.read_csv('../data/regression_data.csv',\n",
    "                           usecols=['wordID'],\n",
    "                           dtype={\"wordID\": \"category\"},\n",
    "                           low_memory = True, \n",
    "                           engine = 'c')\n",
    "\n",
    "# Weights. \n",
    "df = xr.open_dataarray('../output/weights/weights_buckeye.nc')\n",
    "weight_matrix = df.to_pandas()\n",
    "weight_matrix = weight_matrix.transpose()\n",
    "weight_matrix.info(verbose=False, memory_usage=\"deep\")"
   ]
  },
  {
   "cell_type": "markdown",
   "metadata": {},
   "source": [
    "#### Add prior to the dataframe"
   ]
  },
  {
   "cell_type": "code",
   "execution_count": null,
   "metadata": {},
   "outputs": [],
   "source": [
    "words = speaker_word['wordID'].tolist()\n",
    "\n",
    "prior_dict = {}\n",
    "\n",
    "# Make a prior dictionary.\n",
    "for index, word in tqdm(enumerate(words)):\n",
    "    if word not in prior_dict.keys(): \n",
    "\n",
    "        prior_all = get_prior(weight_matrix = weight_matrix, word_outcome = word, domain_specific = False)\n",
    "        priors = get_prior(weight_matrix = weight_matrix, word_outcome = word, domain_specific = True)\n",
    "        \n",
    "        prior_dict[word] = {'prior_all': prior_all, \n",
    "                            'prior_segments': priors['Segment'], \n",
    "                            'prior_syllables': priors['Syllable'], \n",
    "                            'prior_context' : priors['Context']} \n",
    "# Save to json. \n",
    "out_file = open(\"../data/prior_dictionary.json\", \"w\")\n",
    "json.dump(prior_dict, out_file, indent = 6)\n",
    "out_file.close()\n",
    "    \n",
    "df = pd.DataFrame({'prior_all': [], 'prior_segments': [], 'prior_syllables' : [], 'prior_context': []})\n",
    "\n",
    "for index, word in enumerate(words):\n",
    "    df.at[index, 'prior_all'] = prior_dict[word]['prior_all']\n",
    "    df.at[index, 'prior_segments'] = prior_dict[word]['prior_segments']\n",
    "    df.at[index, 'prior_syllables'] = prior_dict[word]['prior_syllables']\n",
    "    df.at[index, 'prior_context'] = prior_dict[word]['prior_context']\n",
    "\n",
    "# Loading whole regression dataset.\n",
    "regression_data = pd.read_csv('../data/regression_data.csv', \n",
    "                              dtype={\"speakerID\": \"category\",\"speakerAge\": \"category\", \"speakerGender\": \"category\",\n",
    "                                     \"interviewerGender\": \"category\", \"wordID\": \"category\", \"wordDur\": \"float\",\n",
    "                                     \"wordPOS\": \"category\", \"n_segments\": \"category\", \"n_syllables\": \"category\"}, \n",
    "                              engine = 'c',\n",
    "                              low_memory = True)\n",
    "\n",
    "result = pd.concat(objects = [regression_data, df], axis = 1)\n",
    "result.to_csv('../data/regression_data_prior.csv', index = False)"
   ]
  },
  {
   "cell_type": "markdown",
   "metadata": {},
   "source": [
    "#### Add activation to the dataframe"
   ]
  },
  {
   "cell_type": "code",
   "execution_count": null,
   "metadata": {},
   "outputs": [],
   "source": [
    "words = speaker_word['wordID'].tolist()\n",
    "\n",
    "df = pd.DataFrame({'activation_all': [], 'activation_segments': [], 'activation_syllables' : [], \n",
    "                   'activation_context': []})\n",
    "\n",
    "for index, word in tqdm(enumerate(words[:100])): \n",
    "    if index == 0:\n",
    "        c1 = 'c.' + words[index+1]\n",
    "        c2 = None\n",
    "    elif index == len(words)-1:\n",
    "        c1 = 'c.' + words[index-1]\n",
    "        c2 = None\n",
    "    else:\n",
    "        c1 = 'c.' + words[index-1]\n",
    "        c2 = 'c.' + words[index+1]\n",
    "    \n",
    "    act = activation(word_outcome = word, c1 = c1, c2=c2, \n",
    "           event_files = [event_file], weight_matrix = weight_matrix, \n",
    "           domain_specific = False)\n",
    "    act_domain = activation(word_outcome = word, c1 = c1, c2=c2,  \n",
    "           event_files = [event_file], weight_matrix = weight_matrix, \n",
    "           domain_specific = True)\n",
    "    \n",
    "    df.at[index, 'activation_all'] = act\n",
    "    df.at[index, 'activation_segments'] = act_domain['Segment']\n",
    "    df.at[index, 'activation_syllables'] = act_domain['Syllable']\n",
    "    df.at[index, 'activation_context'] = act_domain['Context']\n",
    "\n",
    "# Loading whole regression dataset.\n",
    "regression_data = pd.read_csv('../data/regression_data_prior.csv', \n",
    "                              dtype={\"speakerID\": \"category\",\"speakerAge\": \"category\", \"speakerGender\": \"category\",\n",
    "                                     \"interviewerGender\": \"category\", \"wordID\": \"category\", \"wordDur\": \"float\",\n",
    "                                     \"wordPOS\": \"category\", \"n_segments\": \"category\", \"n_syllables\": \"category\"}, \n",
    "                              engine = 'c',\n",
    "                              low_memory = True)    \n",
    "\n",
    "ende = pd.concat(objects = [regression_data, df], axis = 1)\n",
    "ende.to_csv('../data/regression_data_activation.csv', index = False)"
   ]
  }
 ],
 "metadata": {
  "kernelspec": {
   "display_name": "Python 3 (ipykernel)",
   "language": "python",
   "name": "python3"
  },
  "language_info": {
   "codemirror_mode": {
    "name": "ipython",
    "version": 3
   },
   "file_extension": ".py",
   "mimetype": "text/x-python",
   "name": "python",
   "nbconvert_exporter": "python",
   "pygments_lexer": "ipython3",
   "version": "3.8.10"
  }
 },
 "nbformat": 4,
 "nbformat_minor": 2
}
